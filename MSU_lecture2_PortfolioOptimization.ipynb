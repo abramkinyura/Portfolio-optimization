{
 "cells": [
  {
   "cell_type": "code",
   "execution_count": 1,
   "metadata": {
    "collapsed": false
   },
   "outputs": [
   ],
   "source": [
    "from math import sqrt\n",
    "import numpy as np\n",
    "from cvxopt import matrix\n",
    "from cvxopt.blas import nrm2, dot\n",
    "from cvxopt.solvers import qp, socp, options\n",
    "import matplotlib.pyplot as plt\n",
    "import pylab"
   ]
  },
  {
   "cell_type": "markdown",
   "metadata": {
    "collapsed": false
   },
   "source": [
    "### Covariance matrix $\\Sigma$ and its Cholesky decomposition $U$\n",
    "\n",
    "$\\Sigma = U^T U$"
   ]
  },
  {
   "cell_type": "code",
   "execution_count": 2,
   "metadata": {
    "collapsed": false
   },
   "outputs": [
    {
     "name": "stdout",
     "output_type": "stream",
     "text": [
      "[ 1.07e-01 -1.28e-02  2.04e-02 -9.56e-03]\n",
      "[ 0.00e+00  5.07e-02 -3.46e-04  5.46e-03]\n",
      "[ 0.00e+00  0.00e+00  4.14e-02  9.01e-04]\n",
      "[ 0.00e+00  0.00e+00  0.00e+00  3.62e-02]\n",
      "\n"
     ]
    }
   ],
   "source": [
    "names = ['Ant', 'Bee', 'Croc', 'Dino']\n",
    "n = len(names)\n",
    "\n",
    "Cov = 0.1 * matrix(\n",
    "    [[ 0.1138, -0.0137,  0.0218, -0.0102],\n",
    "     [-0.0137,  0.0274, -0.0028,  0.0040],\n",
    "     [ 0.0218, -0.0028,  0.0213, -0.0016],\n",
    "     [-0.0102,  0.0040, -0.0016,  0.0143]])\n",
    "\n",
    "rootCov = matrix(np.linalg.cholesky(Cov)).T\n",
    "print(rootCov)"
   ]
  },
  {
   "cell_type": "markdown",
   "metadata": {
    "collapsed": true
   },
   "source": [
    "### Sample portfolio"
   ]
  },
  {
   "cell_type": "code",
   "execution_count": 3,
   "metadata": {
    "collapsed": true
   },
   "outputs": [
   ],
   "source": [
    "MM = 1000000\n",
    "portf0 = MM * matrix([0.1, 0.2, 0.3, 0.4])"
   ]
  },
  {
   "cell_type": "markdown",
   "metadata": {
    "collapsed": false
   },
   "source": [
    "Portfolio variance and risk"
   ]
  },
  {
   "cell_type": "code",
   "execution_count": 4,
   "metadata": {
    "collapsed": false
   },
   "outputs": [
    {
     "name": "stdout",
     "output_type": "stream",
     "text": [
      "25105.7762278\n"
     ]
    }
   ],
   "source": [
    "portf0variance = (portf0.T * Cov * portf0)[0,0]\n",
    "portf0risk = sqrt(portf0variance)\n",
    "print(portf0risk)"
   ]
  },
  {
   "cell_type": "markdown",
   "metadata": {
    "collapsed": false
   },
   "source": [
    "Checking that portfoli risk equals $\\|G x\\|_2$"
   ]
  },
  {
   "cell_type": "code",
   "execution_count": 5,
   "metadata": {
    "collapsed": false
   },
   "outputs": [
    {
     "data": {
      "text/plain": [
       "25105.77622779268"
      ]
     },
     "execution_count": 5,
     "metadata": {
     },
     "output_type": "execute_result"
    }
   ],
   "source": [
    "nrm2(rootCov * portf0)"
   ]
  },
  {
   "cell_type": "markdown",
   "metadata": {
    "collapsed": false
   },
   "source": [
    "Portfolio expected return"
   ]
  },
  {
   "cell_type": "code",
   "execution_count": 6,
   "metadata": {
    "collapsed": false
   },
   "outputs": [
    {
     "name": "stdout",
     "output_type": "stream",
     "text": [
      "30000.0\n"
     ]
    }
   ],
   "source": [
    "alphas = matrix([0.01, 0.02, 0.03, 0.04])\n",
    "portf0return = (alphas.T * portf0)[0, 0]\n",
    "print(portf0return)"
   ]
  },
  {
   "cell_type": "markdown",
   "metadata": {
    "collapsed": false
   },
   "source": [
    "## Problem 1\n",
    "\n",
    "Maximize the expected return for a given level of risk "
   ]
  },
  {
   "cell_type": "code",
   "execution_count": 7,
   "metadata": {
    "collapsed": true
   },
   "outputs": [
   ],
   "source": [
    "netInvested = MM\n",
    "maximalRisk = 25000"
   ]
  },
  {
   "cell_type": "markdown",
   "metadata": {
    "collapsed": false
   },
   "source": [
    "Conic formulation:\n",
    "    $$\n",
    "    \\begin{aligned}\n",
    "    c^{T} x &\\to\\ \\mbox{min}\\\\\n",
    "    s_0 &= h_0 - G_0 x \\\\\n",
    "    s_0 &\\succeq 0 \\\\\n",
    "    s_1 & = h_1 - G_1 x \\\\\n",
    "    s_1 &\\in \\mathcal{C} \\\\\n",
    "    A x &= b\n",
    "    \\end{aligned}\n",
    "    $$"
   ]
  },
  {
   "cell_type": "markdown",
   "metadata": {
    "collapsed": false
   },
   "source": [
    "#### Constraint 0 (Linear)\n",
    "\n",
    "Risk positive, investments positive"
   ]
  },
  {
   "cell_type": "code",
   "execution_count": 8,
   "metadata": {
    "collapsed": false
   },
   "outputs": [
   ],
   "source": [
    "e1 = matrix(1.0)\n",
    "e5 = matrix(0.0, (5,5))\n",
    "e5[::6] = 1.0\n",
    "z4 = matrix(0.0, (1,4))\n",
    "o4 = matrix(1.0, (1,4))"
   ]
  },
  {
   "cell_type": "code",
   "execution_count": 9,
   "metadata": {
    "collapsed": false
   },
   "outputs": [
    {
     "name": "stdout",
     "output_type": "stream",
     "text": [
      "[ 1.00e+00  0.00e+00  0.00e+00  0.00e+00  0.00e+00]\n",
      "[-1.00e+00 -0.00e+00 -0.00e+00 -0.00e+00 -0.00e+00]\n",
      "[-0.00e+00 -1.00e+00 -0.00e+00 -0.00e+00 -0.00e+00]\n",
      "[-0.00e+00 -0.00e+00 -1.00e+00 -0.00e+00 -0.00e+00]\n",
      "[-0.00e+00 -0.00e+00 -0.00e+00 -1.00e+00 -0.00e+00]\n",
      "[-0.00e+00 -0.00e+00 -0.00e+00 -0.00e+00 -1.00e+00]\n",
      "\n",
      "[ 2.50e+04]\n",
      "[ 0.00e+00]\n",
      "[ 0.00e+00]\n",
      "[ 0.00e+00]\n",
      "[ 0.00e+00]\n",
      "[ 0.00e+00]\n",
      "\n"
     ]
    }
   ],
   "source": [
    "G0 = matrix([[1.0], [z4]])\n",
    "G0 = matrix([G0, -1.0*e5])\n",
    "h0 = matrix([[maximalRisk, matrix(0.0, (5,1))]])\n",
    "\n",
    "print(G0)\n",
    "print(h0)"
   ]
  },
  {
   "cell_type": "markdown",
   "metadata": {
    "collapsed": false
   },
   "source": [
    "#### Constraint 1 (Conic)\n",
    "\n",
    "$\\displaystyle s1 = {r \\choose G x}$ "
   ]
  },
  {
   "cell_type": "code",
   "execution_count": 10,
   "metadata": {
    "collapsed": false
   },
   "outputs": [
    {
     "name": "stdout",
     "output_type": "stream",
     "text": [
      "[-1.00e+00  0.00e+00  0.00e+00  0.00e+00  0.00e+00]\n",
      "[ 0.00e+00 -1.07e-01  1.28e-02 -2.04e-02  9.56e-03]\n",
      "[ 0.00e+00 -0.00e+00 -5.07e-02  3.46e-04 -5.46e-03]\n",
      "[ 0.00e+00 -0.00e+00 -0.00e+00 -4.14e-02 -9.01e-04]\n",
      "[ 0.00e+00 -0.00e+00 -0.00e+00 -0.00e+00 -3.62e-02]\n",
      "\n",
      "[ 0.00e+00]\n",
      "[ 0.00e+00]\n",
      "[ 0.00e+00]\n",
      "[ 0.00e+00]\n",
      "[ 0.00e+00]\n",
      "\n"
     ]
    }
   ],
   "source": [
    "G1 = matrix([[-1*e1, z4.T],[z4, -1.0*rootCov]])\n",
    "h1 = matrix(0.0, (5,1))\n",
    "\n",
    "print(G1)\n",
    "print(h1)"
   ]
  },
  {
   "cell_type": "markdown",
   "metadata": {
    "collapsed": false
   },
   "source": [
    "#### Linear constraint\n",
    "Fully invested portfolio: $\\left( 0, e^T \\right) x = 1000000$"
   ]
  },
  {
   "cell_type": "code",
   "execution_count": 11,
   "metadata": {
    "collapsed": false
   },
   "outputs": [
    {
     "name": "stdout",
     "output_type": "stream",
     "text": [
      "[ 0.00e+00  1.00e+00  1.00e+00  1.00e+00  1.00e+00]\n",
      "\n",
      "[ 1.00e+06]\n",
      "\n"
     ]
    }
   ],
   "source": [
    "A = matrix([[0.0], [o4]])\n",
    "b = matrix(1.0*MM, (1,1))\n",
    "print(A)\n",
    "print(b)"
   ]
  },
  {
   "cell_type": "markdown",
   "metadata": {
    "collapsed": false
   },
   "source": [
    "#### Utility function"
   ]
  },
  {
   "cell_type": "code",
   "execution_count": 12,
   "metadata": {
    "collapsed": false
   },
   "outputs": [
    {
     "name": "stdout",
     "output_type": "stream",
     "text": [
      "[ 0.00e+00]\n",
      "[-1.00e-02]\n",
      "[-2.00e-02]\n",
      "[-3.00e-02]\n",
      "[-4.00e-02]\n",
      "\n"
     ]
    }
   ],
   "source": [
    "coeffUtil1 = matrix([0.0, -1*alphas])\n",
    "print(coeffUtil1)"
   ]
  },
  {
   "cell_type": "markdown",
   "metadata": {
    "collapsed": false
   },
   "source": [
    "#### Optimizer call"
   ]
  },
  {
   "cell_type": "code",
   "execution_count": 13,
   "metadata": {
    "collapsed": false
   },
   "outputs": [
    {
     "name": "stdout",
     "output_type": "stream",
     "text": [
      "     pcost       dcost       gap    pres   dres   k/t\n",
      " 0: -2.5036e+04 -5.0409e+04  1e+06  3e+00  2e+00  1e+00\n",
      " 1: -2.5253e+04 -1.8473e+04  8e+05  2e+00  1e+00  2e+04\n",
      " 2: -2.6281e+04 -2.4553e+04  1e+05  3e-01  2e-01  4e+03\n",
      " 3: -3.1266e+04 -2.7973e+04  4e+04  1e-01  9e-02  4e+03\n",
      " 4: -3.2092e+04 -3.1819e+04  3e+03  7e-03  6e-03  3e+02\n",
      " 5: -3.2801e+04 -3.2753e+04  4e+02  1e-03  1e-03  6e+01\n",
      " 6: -3.2812e+04 -3.2810e+04  1e+01  2e-05  2e-05  1e+00\n",
      " 7: -3.2811e+04 -3.2811e+04  2e-01  4e-07  4e-07  2e-02\n",
      " 8: -3.2811e+04 -3.2811e+04  2e-02  4e-08  4e-08  2e-03\n",
      "Optimal solution found.\n"
     ]
    }
   ],
   "source": [
    "solution1 = socp(coeffUtil1, G0, h0, [G1], [h1], A, b)"
   ]
  },
  {
   "cell_type": "code",
   "execution_count": 14,
   "metadata": {
    "collapsed": false
   },
   "outputs": [
    {
     "data": {
      "text/plain": [
       "{'dual infeasibility': 3.641282064786411e-08,\n",
       " 'dual objective': -32811.163977010896,\n",
       " 'dual slack': 3.232803039618736e-09,\n",
       " 'gap': 0.016443068471005986,\n",
       " 'iterations': 8,\n",
       " 'primal infeasibility': 4.1273041055855535e-08,\n",
       " 'primal objective': -32811.1659728565,\n",
       " 'primal slack': 7.362141654564667e-05,\n",
       " 'relative gap': 5.011424612160612e-07,\n",
       " 'residual as dual infeasibility certificate': None,\n",
       " 'residual as primal infeasibility certificate': None,\n",
       " 'sl': <6x1 matrix, tc='d'>,\n",
       " 'sq': [<5x1 matrix, tc='d'>],\n",
       " 'status': 'optimal',\n",
       " 'x': <5x1 matrix, tc='d'>,\n",
       " 'y': <1x1 matrix, tc='d'>,\n",
       " 'zl': <6x1 matrix, tc='d'>,\n",
       " 'zq': [<5x1 matrix, tc='d'>]}"
      ]
     },
     "execution_count": 14,
     "metadata": {
     },
     "output_type": "execute_result"
    }
   ],
   "source": [
    "solution1"
   ]
  },
  {
   "cell_type": "code",
   "execution_count": 15,
   "metadata": {
    "collapsed": false
   },
   "outputs": [
    {
     "name": "stdout",
     "output_type": "stream",
     "text": [
      "1000000.0\n"
     ]
    }
   ],
   "source": [
    "portf1 = solution1['x'][1:5]\n",
    "print(sum(portf1))"
   ]
  },
  {
   "cell_type": "code",
   "execution_count": 16,
   "metadata": {
    "collapsed": false
   },
   "outputs": [
    {
     "name": "stdout",
     "output_type": "stream",
     "text": [
      "24999.9997172\n",
      "32811.1659729\n"
     ]
    }
   ],
   "source": [
    "portf1variance = (portf1.T * Cov * portf1)[0,0]\n",
    "portf1risk = sqrt(portf1variance)\n",
    "print(portf1risk)\n",
    "\n",
    "portf1return = (alphas.T * portf1)[0, 0]\n",
    "print(portf1return)"
   ]
  },
  {
   "cell_type": "code",
   "execution_count": 25,
   "metadata": {
    "collapsed": false
   },
   "outputs": [
    {
     "data": {
      "image/png": "[encoded data removed]"
     },
     "execution_count": 25,
     "metadata": {
     },
     "output_type": "execute_result"
    }
   ],
   "source": [
    "ind = np.arange(n)    # the horizontal locations for the groups\n",
    "width = 0.35          # the width of the bars: can also be len(x) sequence\n",
    "p0 = plt.bar(ind, portf0, width, color='y')\n",
    "p1 = plt.bar(ind+width, portf1, width, color='r')\n",
    "\n",
    "plt.ylabel('Invested notional')\n",
    "plt.xticks(ind + width, names)\n",
    "plt.legend((p0[0], p1[0]), ('Initial', 'Max Expected Return'), loc=2)\n",
    "\n",
    "plt.show()"
   ]
  },
  {
   "cell_type": "markdown",
   "metadata": {
    "collapsed": true
   },
   "source": [
    "## Problem 2\n",
    "\n",
    "Minimize the risk for the expected level of return"
   ]
  },
  {
   "cell_type": "code",
   "execution_count": 19,
   "metadata": {
    "collapsed": false
   },
   "outputs": [
    {
     "name": "stdout",
     "output_type": "stream",
     "text": [
      "[ 1.00e+00]\n",
      "[ 0.00e+00]\n",
      "[ 0.00e+00]\n",
      "[ 0.00e+00]\n",
      "[ 0.00e+00]\n",
      "\n"
     ]
    }
   ],
   "source": [
    "coeffUtil2 = matrix([1.0, z4.T])\n",
    "print(coeffUtil2)"
   ]
  },
  {
   "cell_type": "code",
   "execution_count": 20,
   "metadata": {
    "collapsed": false
   },
   "outputs": [
    {
     "name": "stdout",
     "output_type": "stream",
     "text": [
      "[ 0.00e+00 -1.00e-02 -2.00e-02 -3.00e-02 -4.00e-02]\n",
      "[-1.00e+00 -0.00e+00 -0.00e+00 -0.00e+00 -0.00e+00]\n",
      "[-0.00e+00 -1.00e+00 -0.00e+00 -0.00e+00 -0.00e+00]\n",
      "[-0.00e+00 -0.00e+00 -1.00e+00 -0.00e+00 -0.00e+00]\n",
      "[-0.00e+00 -0.00e+00 -0.00e+00 -1.00e+00 -0.00e+00]\n",
      "[-0.00e+00 -0.00e+00 -0.00e+00 -0.00e+00 -1.00e+00]\n",
      "\n",
      "[-3.00e+04]\n",
      "[ 0.00e+00]\n",
      "[ 0.00e+00]\n",
      "[ 0.00e+00]\n",
      "[ 0.00e+00]\n",
      "[ 0.00e+00]\n",
      "\n"
     ]
    }
   ],
   "source": [
    "minReturn = 30000\n",
    "\n",
    "G0 = matrix([[0.0], [-1*alphas.T]])\n",
    "G0 = matrix([G0, -1.0*e5])\n",
    "print(G0)\n",
    "\n",
    "h0 = matrix([[-minReturn, matrix(0.0, (5,1))]])\n",
    "print(h0)"
   ]
  },
  {
   "cell_type": "code",
   "execution_count": 21,
   "metadata": {
    "collapsed": false
   },
   "outputs": [
    {
     "name": "stdout",
     "output_type": "stream",
     "text": [
      "     pcost       dcost       gap    pres   dres   k/t\n",
      " 0:  5.8208e-11  3.0000e+04  1e+06  3e+00  3e+00  1e+00\n",
      " 1:  3.0629e+04  5.4084e+04  4e+05  1e+00  1e+00  1e+04\n",
      " 2:  2.8103e+04  3.5444e+04  9e+04  2e-01  2e-01  5e+03\n",
      " 3:  2.5590e+04  2.6394e+04  1e+04  3e-02  3e-02  5e+02\n",
      " 4:  2.4565e+04  2.4700e+04  1e+03  4e-03  4e-03  1e+02\n",
      " 5:  2.4585e+04  2.4608e+04  2e+02  5e-04  5e-04  2e+01\n",
      " 6:  2.4573e+04  2.4574e+04  6e+00  2e-05  2e-05  7e-01\n",
      " 7:  2.4573e+04  2.4573e+04  2e-01  7e-07  7e-07  3e-02\n",
      " 8:  2.4573e+04  2.4573e+04  7e-03  2e-08  2e-08  8e-04\n",
      "Optimal solution found.\n"
     ]
    }
   ],
   "source": [
    "solution2 = socp(coeffUtil2, G0, h0, [G1], [h1], A, b)"
   ]
  },
  {
   "cell_type": "code",
   "execution_count": 22,
   "metadata": {
    "collapsed": false
   },
   "outputs": [
    {
     "name": "stdout",
     "output_type": "stream",
     "text": [
      "[ 9.12e+02]\n",
      "[ 2.46e+04]\n",
      "[ 6.53e+04]\n",
      "[ 2.17e+05]\n",
      "[ 2.78e+05]\n",
      "[ 4.39e+05]\n",
      "\n"
     ]
    }
   ],
   "source": [
    "print(solution2['sl'])"
   ]
  },
  {
   "cell_type": "code",
   "execution_count": 23,
   "metadata": {
    "collapsed": false
   },
   "outputs": [
    {
     "name": "stdout",
     "output_type": "stream",
     "text": [
      "24572.6909609\n",
      "30911.8348434\n"
     ]
    }
   ],
   "source": [
    "portf2 = solution2['x'][1:5]\n",
    "\n",
    "portf2variance = (portf2.T * Cov * portf2)[0,0]\n",
    "portf2risk = sqrt(portf2variance)\n",
    "print(portf2risk)\n",
    "\n",
    "portf2return = (alphas.T * portf2)[0, 0]\n",
    "print(portf2return)"
   ]
  },
  {
   "cell_type": "code",
   "execution_count": 26,
   "metadata": {
    "collapsed": false
   },
   "outputs": [
    {
     "data": {
      "image/png": "[encoded data removed]"
     },
     "execution_count": 26,
     "metadata": {
     },
     "output_type": "execute_result"
    }
   ],
   "source": [
    "ind = np.arange(n)    # the horizontal locations for the groups\n",
    "width = 0.25          # the width of the bars: can also be len(x) sequence\n",
    "p0 = plt.bar(ind, portf0, width, color='y')\n",
    "p1 = plt.bar(ind+width, portf1, width, color='r')\n",
    "p2 = plt.bar(ind+width*2., portf2, width, color='b')\n",
    "\n",
    "plt.ylabel('Invested notional')\n",
    "plt.xticks(ind + width*1.5, names)\n",
    "plt.legend((p0[0], p1[0], p2[0]), ('Initial', 'Max Expected Return', 'Min Risk'), loc=2)\n",
    "\n",
    "plt.show()"
   ]
  },
  {
   "cell_type": "markdown",
   "metadata": {
    "collapsed": false
   },
   "source": [
    "### Problem 3\n",
    "\n",
    "Markowitz mean-variance optimization. The utility function is a weighted sum of expected return and risk: \n",
    "$c = (\\lambda, -\\alpha^T)$, \n",
    "where $\\lambda$ is a risk-aversion parameter"
   ]
  },
  {
   "cell_type": "code",
   "execution_count": 27,
   "metadata": {
    "collapsed": false
   },
   "outputs": [
   ],
   "source": [
    "def meanVariance(riskAversion):\n",
    "    \n",
    "    # utility function\n",
    "    coeffUtil = matrix([riskAversion, -1.0*alphas])\n",
    "    \n",
    "    # investment limit plus positivity constraints\n",
    "    G0 = matrix([matrix([[0.0],[o4]]), -1.0*e5])\n",
    "    h0 = matrix([[MM, matrix(0.0, (5,1))]])\n",
    "\n",
    "    # conic constraint\n",
    "    G1 = matrix([[-1*e1, z4.T],[z4, -1.0*rootCov]])\n",
    "    h1 = matrix(0.0, (5,1))\n",
    "    \n",
    "    # linear constraint = full investment\n",
    "    A = matrix([[0.0], [o4]])\n",
    "    b = matrix(1.0*MM, (1,1))\n",
    "\n",
    "    # call the optimizer\n",
    "    solution = socp(coeffUtil, G0, h0, [G1], [h1], A, b)\n",
    "\n",
    "    return solution['x'][1:5]"
   ]
  },
  {
   "cell_type": "code",
   "execution_count": 28,
   "metadata": {
    "collapsed": false
   },
   "outputs": [
    {
     "name": "stdout",
     "output_type": "stream",
     "text": [
      "     pcost       dcost       gap    pres   dres   k/t\n",
      " 0: -2.5036e+04 -1.0400e+06  1e+06  9e-02  2e+00  1e+00\n",
      " 1:  8.5157e+03 -2.4427e+05  3e+05  2e-02  5e-01  1e+04\n",
      " 2:  1.6966e+03 -5.6352e+04  7e+04  5e-03  1e-01  4e+03\n",
      " 3: -8.7656e+03 -5.3212e+04  5e+04  4e-03  1e-01  4e+03\n",
      " 4: -1.5926e+01 -4.3320e+04  5e+04  4e-03  1e-01  5e+03\n",
      " 5: -4.9642e+03 -2.4675e+04  2e+04  2e-03  4e-02  3e+03\n",
      " 6: -7.5962e+03 -1.2579e+04  6e+03  5e-04  1e-02  8e+02\n",
      " 7: -8.2156e+03 -9.1968e+03  1e+03  1e-04  2e-03  2e+02\n",
      " 8: -8.5148e+03 -8.8761e+03  4e+02  4e-05  8e-04  6e+01\n",
      " 9: -8.4979e+03 -8.5871e+03  1e+02  9e-06  2e-04  2e+01\n",
      "10: -8.5284e+03 -8.5432e+03  2e+01  1e-06  3e-05  3e+00\n",
      "11: -8.5282e+03 -8.5293e+03  1e+00  1e-07  3e-06  2e-01\n",
      "12: -8.5283e+03 -8.5283e+03  6e-02  5e-09  1e-07  9e-03\n",
      "13: -8.5283e+03 -8.5283e+03  3e-03  2e-10  5e-09  4e-04\n",
      "Optimal solution found.\n"
     ]
    }
   ],
   "source": [
    "pi = meanVariance(1.0)"
   ]
  },
  {
   "cell_type": "code",
   "execution_count": 29,
   "metadata": {
    "collapsed": false
   },
   "outputs": [
    {
     "name": "stdout",
     "output_type": "stream",
     "text": [
      "35504.130992\n",
      "26975.8324243\n"
     ]
    }
   ],
   "source": [
    "print(dot(alphas,pi))\n",
    "print(sqrt(dot(pi, Cov*pi)))"
   ]
  },
  {
   "cell_type": "code",
   "execution_count": 30,
   "metadata": {
    "collapsed": false
   },
   "outputs": [
    {
     "name": "stdout",
     "output_type": "stream",
     "text": [
      "     pcost       dcost       gap    pres   dres   k/t\n",
      " 0: -2.5036e+04 -1.0400e+06  1e+06  9e-02  2e+00  1e+00\n",
      " 1: -2.2347e+04 -2.2669e+05  2e+05  2e-02  4e-01  2e+03\n",
      " 2: -2.3273e+04 -4.0116e+04  2e+04  1e-03  3e-02  3e+02\n",
      " 3: -3.1791e+04 -4.0207e+04  1e+04  8e-04  2e-02  5e+02\n",
      " 4: -3.5459e+04 -3.6887e+04  2e+03  1e-04  3e-03  1e+02\n",
      " 5: -3.5717e+04 -3.6578e+04  1e+03  8e-05  2e-03  8e+01\n",
      " 6: -3.6106e+04 -3.6328e+04  3e+02  2e-05  5e-04  2e+01\n",
      " 7: -3.6163e+04 -3.6260e+04  1e+02  9e-06  2e-04  1e+01\n",
      " 8: -3.6205e+04 -3.6231e+04  3e+01  3e-06  6e-05  3e+00\n",
      " 9: -3.6216e+04 -3.6220e+04  5e+00  4e-07  1e-05  6e-01\n",
      "10: -3.6218e+04 -3.6219e+04  1e+00  9e-08  2e-06  1e-01\n",
      "11: -3.6218e+04 -3.6218e+04  9e-02  8e-09  2e-07  1e-02\n",
      "12: -3.6218e+04 -3.6218e+04  1e-02  1e-09  2e-08  2e-03\n",
      "Optimal solution found.\n",
      "     pcost       dcost       gap    pres   dres   k/t\n",
      " 0: -2.5036e+04 -1.0400e+06  1e+06  9e-02  2e+00  1e+00\n",
      " 1: -2.1616e+04 -2.2212e+05  2e+05  2e-02  4e-01  2e+03\n",
      " 2: -2.2260e+04 -4.1776e+04  2e+04  2e-03  4e-02  8e+02\n",
      " 3: -2.9746e+04 -4.0539e+04  1e+04  1e-03  2e-02  7e+02\n",
      " 4: -2.9944e+04 -3.9732e+04  1e+04  9e-04  2e-02  7e+02\n",
      " 5: -3.4660e+04 -3.6612e+04  2e+03  2e-04  4e-03  3e+02\n",
      " 6: -3.5105e+04 -3.5333e+04  3e+02  2e-05  5e-04  4e+01\n",
      " 7: -3.5238e+04 -3.5242e+04  5e+00  4e-07  9e-06  6e-01\n",
      " 8: -3.5239e+04 -3.5240e+04  4e-01  3e-08  7e-07  5e-02\n",
      " 9: -3.5239e+04 -3.5239e+04  4e-03  3e-10  8e-09  5e-04\n",
      "Optimal solution found.\n",
      "     pcost       dcost       gap    pres   dres   k/t\n",
      " 0: -2.5036e+04 -1.0400e+06  1e+06  9e-02  2e+00  1e+00\n",
      " 1: -2.0694e+04 -2.1760e+05  2e+05  2e-02  4e-01  2e+03\n",
      " 2: -2.0796e+04 -6.0738e+04  5e+04  4e-03  8e-02  2e+03\n",
      " 3: -2.6644e+04 -4.8461e+04  2e+04  2e-03  5e-02  9e+02\n",
      " 4: -2.3181e+04 -4.5575e+04  3e+04  2e-03  5e-02  1e+03\n",
      " 5: -3.1106e+04 -3.5079e+04  4e+03  4e-04  8e-03  3e+02\n",
      " 6: -3.3171e+04 -3.4177e+04  1e+03  9e-05  2e-03  1e+02\n",
      " 7: -3.3914e+04 -3.4052e+04  2e+02  1e-05  3e-04  2e+01\n",
      " 8: -3.3976e+04 -3.4017e+04  5e+01  4e-06  9e-05  5e+00\n",
      " 9: -3.4003e+04 -3.4009e+04  7e+00  6e-07  1e-05  8e-01\n",
      "10: -3.4006e+04 -3.4007e+04  1e+00  1e-07  3e-06  2e-01\n",
      "11: -3.4007e+04 -3.4007e+04  2e-01  2e-08  5e-07  3e-02\n",
      "12: -3.4007e+04 -3.4007e+04  4e-02  3e-09  7e-08  5e-03\n",
      "13: -3.4007e+04 -3.4007e+04  6e-03  5e-10  1e-08  9e-04\n",
      "Optimal solution found.\n",
      "     pcost       dcost       gap    pres   dres   k/t\n",
      " 0: -2.5036e+04 -1.0400e+06  1e+06  9e-02  2e+00  1e+00\n",
      " 1: -1.9533e+04 -2.1344e+05  2e+05  2e-02  4e-01  2e+03\n",
      " 2: -1.9081e+04 -7.7926e+04  7e+04  5e-03  1e-01  2e+03\n",
      " 3: -2.5186e+04 -5.1091e+04  3e+04  2e-03  5e-02  1e+03\n",
      " 4: -2.0972e+04 -4.7661e+04  3e+04  2e-03  6e-02  1e+03\n",
      " 5: -2.8379e+04 -3.4097e+04  6e+03  5e-04  1e-02  3e+02\n",
      " 6: -3.1821e+04 -3.2926e+04  1e+03  1e-04  2e-03  1e+02\n",
      " 7: -3.2089e+04 -3.2544e+04  5e+02  4e-05  1e-03  5e+01\n",
      " 8: -3.2438e+04 -3.2480e+04  5e+01  4e-06  1e-04  6e+00\n",
      " 9: -3.2454e+04 -3.2455e+04  1e+00  1e-07  2e-06  2e-01\n",
      "10: -3.2455e+04 -3.2455e+04  3e-02  2e-09  6e-08  4e-03\n",
      "Optimal solution found.\n",
      "     pcost       dcost       gap    pres   dres   k/t\n",
      " 0: -2.5036e+04 -1.0400e+06  1e+06  9e-02  2e+00  1e+00\n",
      " 1: -1.8074e+04 -2.1005e+05  2e+05  2e-02  4e-01  2e+03\n",
      " 2: -1.7138e+04 -8.5775e+04  8e+04  6e-03  1e-01  3e+03\n",
      " 3: -2.3841e+04 -5.3252e+04  3e+04  3e-03  6e-02  1e+03\n",
      " 4: -1.8689e+04 -4.9069e+04  3e+04  3e-03  6e-02  1e+03\n",
      " 5: -2.5918e+04 -3.2768e+04  8e+03  6e-04  1e-02  4e+02\n",
      " 6: -3.0006e+04 -3.1471e+04  2e+03  1e-04  3e-03  1e+02\n",
      " 7: -3.0318e+04 -3.0631e+04  4e+02  3e-05  7e-04  4e+01\n",
      " 8: -3.0488e+04 -3.0565e+04  9e+01  7e-06  2e-04  1e+01\n",
      " 9: -3.0510e+04 -3.0513e+04  4e+00  3e-07  7e-06  5e-01\n",
      "10: -3.0512e+04 -3.0512e+04  2e-01  1e-08  3e-07  2e-02\n",
      "11: -3.0512e+04 -3.0512e+04  5e-03  4e-10  9e-09  7e-04\n",
      "Optimal solution found.\n",
      "     pcost       dcost       gap    pres   dres   k/t\n",
      " 0: -2.5036e+04 -1.0400e+06  1e+06  9e-02  2e+00  1e+00\n",
      " 1: -1.6249e+04 -2.0782e+05  2e+05  2e-02  4e-01  2e+03\n",
      " 2: -1.4897e+04 -8.6544e+04  8e+04  6e-03  1e-01  3e+03\n",
      " 3: -2.2410e+04 -5.5070e+04  4e+04  3e-03  7e-02  1e+03\n",
      " 4: -1.6053e+04 -4.9870e+04  4e+04  3e-03  7e-02  2e+03\n",
      " 5: -2.3391e+04 -3.1082e+04  9e+03  7e-04  2e-02  5e+02\n",
      " 6: -2.8047e+04 -2.9486e+04  2e+03  1e-04  3e-03  2e+02\n",
      " 7: -2.8264e+04 -2.8348e+04  1e+02  8e-06  2e-04  1e+01\n",
      " 8: -2.8300e+04 -2.8304e+04  6e+00  5e-07  1e-05  6e-01\n",
      " 9: -2.8301e+04 -2.8301e+04  7e-02  6e-09  1e-07  1e-02\n",
      "10: -2.8301e+04 -2.8301e+04  2e-03  2e-10  4e-09  3e-04\n",
      "Optimal solution found.\n",
      "     pcost       dcost       gap    pres   dres   k/t\n",
      " 0: -2.5036e+04 -1.0400e+06  1e+06  9e-02  2e+00  1e+00\n",
      " 1: -1.3973e+04 -2.0708e+05  2e+05  2e-02  4e-01  2e+03\n",
      " 2: -1.2251e+04 -8.2132e+04  8e+04  6e-03  1e-01  3e+03\n",
      " 3: -2.0753e+04 -5.5845e+04  4e+04  3e-03  7e-02  2e+03\n",
      " 4: -1.2771e+04 -4.9208e+04  4e+04  3e-03  8e-02  2e+03\n",
      " 5: -2.0622e+04 -2.9133e+04  1e+04  8e-04  2e-02  6e+02\n",
      " 6: -2.5221e+04 -2.6745e+04  2e+03  1e-04  3e-03  2e+02\n",
      " 7: -2.5713e+04 -2.5764e+04  6e+01  5e-06  1e-04  6e+00\n",
      " 8: -2.5738e+04 -2.5738e+04  1e+00  8e-08  2e-06  1e-01\n",
      " 9: -2.5738e+04 -2.5738e+04  2e-02  1e-09  3e-08  2e-03\n",
      "Optimal solution found.\n",
      "     pcost       dcost       gap    pres   dres   k/t\n",
      " 0: -2.5036e+04 -1.0400e+06  1e+06  9e-02  2e+00  1e+00\n",
      " 1: -1.0645e+04 -2.1034e+05  2e+05  2e-02  4e-01  4e+03\n",
      " 2: -1.0973e+04 -3.8352e+04  3e+04  3e-03  6e-02  2e+03\n",
      " 3: -1.8852e+04 -2.9490e+04  1e+04  1e-03  2e-02  1e+03\n",
      " 4: -2.1359e+04 -2.6842e+04  6e+03  5e-04  1e-02  6e+02\n",
      " 5: -2.0810e+04 -2.4682e+04  5e+03  4e-04  9e-03  5e+02\n",
      " 6: -2.2512e+04 -2.3086e+04  7e+02  6e-05  1e-03  9e+01\n",
      " 7: -2.2640e+04 -2.2670e+04  4e+01  3e-06  7e-05  5e+00\n",
      " 8: -2.2655e+04 -2.2656e+04  9e-01  7e-08  2e-06  1e-01\n",
      " 9: -2.2656e+04 -2.2656e+04  5e-02  4e-09  1e-07  7e-03\n",
      "10: -2.2656e+04 -2.2656e+04  9e-04  7e-11  2e-09  1e-04\n",
      "Optimal solution found.\n",
      "     pcost       dcost       gap    pres   dres   k/t\n",
      " 0: -2.5036e+04 -1.0400e+06  1e+06  9e-02  2e+00  1e+00\n",
      " 1: -5.9686e+03 -2.1791e+05  2e+05  2e-02  4e-01  7e+03\n",
      " 2: -8.7598e+03 -3.0841e+04  2e+04  2e-03  5e-02  1e+03\n",
      " 3: -1.7592e+04 -2.7547e+04  1e+04  1e-03  2e-02  1e+03\n",
      " 4: -1.7605e+04 -2.0341e+04  3e+03  3e-04  6e-03  4e+02\n",
      " 5: -1.8788e+04 -1.9155e+04  4e+02  4e-05  9e-04  6e+01\n",
      " 6: -1.8869e+04 -1.8886e+04  2e+01  2e-06  4e-05  3e+00\n",
      " 7: -1.8877e+04 -1.8878e+04  1e+00  1e-07  3e-06  2e-01\n",
      " 8: -1.8878e+04 -1.8878e+04  3e-02  2e-09  5e-08  4e-03\n",
      " 9: -1.8878e+04 -1.8878e+04  4e-03  3e-10  7e-09  5e-04\n",
      "Optimal solution found.\n",
      "     pcost       dcost       gap    pres   dres   k/t\n",
      " 0: -2.5036e+04 -1.0400e+06  1e+06  9e-02  2e+00  1e+00\n",
      " 1:  3.0297e+02 -2.2936e+05  3e+05  2e-02  5e-01  1e+04\n",
      " 2: -4.0763e+03 -5.7265e+04  6e+04  5e-03  1e-01  3e+03\n",
      " 3: -1.3856e+04 -5.0683e+04  4e+04  3e-03  8e-02  4e+03\n",
      " 4: -1.3501e+03 -3.9678e+04  5e+04  4e-03  8e-02  4e+03\n",
      " 5: -1.0183e+04 -2.8564e+04  2e+04  2e-03  4e-02  2e+03\n",
      " 6: -1.1440e+04 -1.7060e+04  7e+03  5e-04  1e-02  8e+02\n",
      " 7: -1.4077e+04 -1.6168e+04  3e+03  2e-04  5e-03  3e+02\n",
      " 8: -1.4093e+04 -1.4348e+04  3e+02  3e-05  6e-04  4e+01\n",
      " 9: -1.4198e+04 -1.4224e+04  3e+01  3e-06  6e-05  5e+00\n",
      "10: -1.4200e+04 -1.4202e+04  2e+00  2e-07  4e-06  3e-01\n",
      "11: -1.4200e+04 -1.4201e+04  2e-01  2e-08  4e-07  3e-02\n",
      "12: -1.4200e+04 -1.4200e+04  4e-03  3e-10  8e-09  6e-04\n",
      "Optimal solution found.\n",
      "     pcost       dcost       gap    pres   dres   k/t\n",
      " 0: -2.5036e+04 -1.0400e+06  1e+06  9e-02  2e+00  1e+00\n",
      " 1:  8.5157e+03 -2.4427e+05  3e+05  2e-02  5e-01  1e+04\n",
      " 2:  1.6966e+03 -5.6352e+04  7e+04  5e-03  1e-01  4e+03\n",
      " 3: -8.7656e+03 -5.3212e+04  5e+04  4e-03  1e-01  4e+03\n",
      " 4: -1.5926e+01 -4.3320e+04  5e+04  4e-03  1e-01  5e+03\n",
      " 5: -4.9642e+03 -2.4675e+04  2e+04  2e-03  4e-02  3e+03\n",
      " 6: -7.5962e+03 -1.2579e+04  6e+03  5e-04  1e-02  8e+02\n",
      " 7: -8.2156e+03 -9.1968e+03  1e+03  1e-04  2e-03  2e+02\n",
      " 8: -8.5148e+03 -8.8761e+03  4e+02  4e-05  8e-04  6e+01\n",
      " 9: -8.4979e+03 -8.5871e+03  1e+02  9e-06  2e-04  2e+01\n",
      "10: -8.5284e+03 -8.5432e+03  2e+01  1e-06  3e-05  3e+00\n",
      "11: -8.5282e+03 -8.5293e+03  1e+00  1e-07  3e-06  2e-01\n",
      "12: -8.5283e+03 -8.5283e+03  6e-02  5e-09  1e-07  9e-03\n",
      "13: -8.5283e+03 -8.5283e+03  3e-03  2e-10  5e-09  4e-04\n",
      "Optimal solution found.\n",
      "     pcost       dcost       gap    pres   dres   k/t\n",
      " 0: -2.5036e+04 -1.0400e+06  1e+06  9e-02  2e+00  1e+00\n",
      " 1:  1.8952e+04 -2.6179e+05  3e+05  3e-02  5e-01  2e+04\n",
      " 2:  8.8568e+03 -5.0842e+04  7e+04  5e-03  1e-01  4e+03\n",
      " 3: -2.4775e+03 -4.9742e+04  6e+04  4e-03  8e-02  5e+03\n",
      " 4:  3.0749e+03 -2.8194e+04  4e+04  3e-03  6e-02  4e+03\n",
      " 5: -7.7262e+02 -4.0023e+03  4e+03  3e-04  6e-03  5e+02\n",
      " 6: -1.6991e+03 -2.2790e+03  7e+02  6e-05  1e-03  9e+01\n",
      " 7: -1.6704e+03 -1.7442e+03  9e+01  7e-06  1e-04  1e+01\n",
      " 8: -1.6849e+03 -1.6869e+03  2e+00  2e-07  4e-06  3e-01\n",
      " 9: -1.6854e+03 -1.6855e+03  7e-02  5e-09  1e-07  1e-02\n",
      "10: -1.6854e+03 -1.6854e+03  1e-03  8e-11  1e-09  1e-04\n",
      "Optimal solution found.\n",
      "     pcost       dcost       gap    pres   dres   k/t\n",
      " 0: -2.5036e+04 -1.0400e+06  1e+06  9e-02  1e+00  1e+00\n",
      " 1:  3.1777e+04 -2.8069e+05  4e+05  3e-02  4e-01  3e+04\n",
      " 2:  1.7718e+04 -4.4285e+04  7e+04  6e-03  8e-02  5e+03\n",
      " 3:  5.2370e+03 -4.4289e+04  6e+04  5e-03  7e-02  6e+03\n",
      " 4:  9.4127e+03 -9.7788e+03  2e+04  2e-03  3e-02  3e+03\n",
      " 5:  6.9684e+03  5.8549e+03  1e+03  1e-04  2e-03  2e+02\n",
      " 6:  6.6964e+03  6.6085e+03  1e+02  9e-06  1e-04  1e+01\n",
      " 7:  6.6904e+03  6.6880e+03  3e+00  2e-07  4e-06  4e-01\n",
      " 8:  6.6902e+03  6.6901e+03  1e-01  1e-08  2e-07  2e-02\n",
      " 9:  6.6901e+03  6.6901e+03  6e-03  5e-10  7e-09  8e-04\n",
      "Optimal solution found.\n",
      "     pcost       dcost       gap    pres   dres   k/t\n",
      " 0: -2.5036e+04 -1.0400e+06  1e+06  9e-02  1e+00  1e+00\n",
      " 1:  4.7017e+04 -2.9953e+05  4e+05  3e-02  4e-01  3e+04\n",
      " 2:  2.8645e+04 -3.6767e+04  8e+04  6e-03  7e-02  6e+03\n",
      " 3:  1.4723e+04 -3.7397e+04  6e+04  5e-03  6e-02  6e+03\n",
      " 4:  1.8757e+04  6.2112e+03  2e+04  1e-03  1e-02  2e+03\n",
      " 5:  1.7212e+04  1.6590e+04  8e+02  6e-05  7e-04  1e+02\n",
      " 6:  1.7057e+04  1.7025e+04  4e+01  3e-06  4e-05  5e+00\n",
      " 7:  1.7057e+04  1.7057e+04  5e-01  4e-08  5e-07  7e-02\n",
      " 8:  1.7057e+04  1.7057e+04  3e-02  2e-09  3e-08  4e-03\n",
      " 9:  1.7057e+04  1.7057e+04  5e-04  4e-11  5e-10  7e-05\n",
      "Optimal solution found.\n",
      "     pcost       dcost       gap    pres   dres   k/t\n",
      " 0: -2.5036e+04 -1.0400e+06  1e+06  9e-02  8e-01  1e+00\n",
      " 1:  6.4580e+04 -3.1679e+05  5e+05  4e-02  3e-01  4e+04\n",
      " 2:  4.2091e+04 -2.7410e+04  9e+04  7e-03  6e-02  7e+03\n",
      " 3:  2.6428e+04 -2.8472e+04  7e+04  5e-03  5e-02  7e+03\n",
      " 4:  3.1104e+04  2.2187e+04  1e+04  9e-04  8e-03  1e+03\n",
      " 5:  3.0106e+04  2.9579e+04  7e+02  5e-05  5e-04  8e+01\n",
      " 6:  2.9974e+04  2.9954e+04  2e+01  2e-06  2e-05  3e+00\n",
      " 7:  2.9973e+04  2.9973e+04  5e-01  4e-08  3e-07  6e-02\n",
      " 8:  2.9973e+04  2.9973e+04  2e-02  1e-09  1e-08  3e-03\n",
      "Optimal solution found.\n",
      "     pcost       dcost       gap    pres   dres   k/t\n",
      " 0: -2.5036e+04 -1.0400e+06  1e+06  9e-02  6e-01  1e+00\n",
      " 1:  8.4330e+04 -3.3102e+05  6e+05  4e-02  3e-01  4e+04\n",
      " 2:  5.8631e+04 -1.4845e+04  9e+04  7e-03  5e-02  8e+03\n",
      " 3:  4.0960e+04 -1.6271e+04  7e+04  6e-03  4e-02  8e+03\n",
      " 4:  4.6876e+04  4.0351e+04  8e+03  6e-04  5e-03  1e+03\n",
      " 5:  4.6249e+04  4.5780e+04  6e+02  5e-05  3e-04  8e+01\n",
      " 6:  4.6130e+04  4.6116e+04  2e+01  1e-06  1e-05  2e+00\n",
      " 7:  4.6129e+04  4.6129e+04  3e-01  3e-08  2e-07  5e-02\n",
      " 8:  4.6129e+04  4.6129e+04  1e-02  9e-10  6e-09  2e-03\n",
      "Optimal solution found.\n",
      "     pcost       dcost       gap    pres   dres   k/t\n",
      " 0: -2.5036e+04 -1.0400e+06  1e+06  9e-02  5e-01  1e+00\n",
      " 1:  1.0620e+05 -3.4095e+05  6e+05  4e-02  2e-01  5e+04\n",
      " 2:  7.9010e+04  2.7179e+03  1e+05  7e-03  4e-02  9e+03\n",
      " 3:  5.9197e+04  1.0629e+03  8e+04  6e-03  3e-02  8e+03\n",
      " 4:  6.6832e+04  6.2222e+04  6e+03  5e-04  3e-03  8e+02\n",
      " 5:  6.6484e+04  6.6094e+04  5e+02  4e-05  2e-04  7e+01\n",
      " 6:  6.6387e+04  6.6377e+04  1e+01  1e-06  6e-06  2e+00\n",
      " 7:  6.6387e+04  6.6386e+04  2e-01  2e-08  1e-07  3e-02\n",
      " 8:  6.6387e+04  6.6387e+04  6e-03  5e-10  3e-09  9e-04\n",
      "Optimal solution found.\n",
      "     pcost       dcost       gap    pres   dres   k/t\n",
      " 0: -2.5036e+04 -1.0400e+06  1e+06  9e-02  4e-01  1e+00\n",
      " 1:  1.3029e+05 -3.4548e+05  7e+05  5e-02  2e-01  5e+04\n",
      " 2:  1.0422e+05  2.7521e+04  1e+05  7e-03  3e-02  1e+04\n",
      " 3:  8.2448e+04  2.6101e+04  8e+04  6e-03  3e-02  8e+03\n",
      " 4:  9.2030e+04  8.9096e+04  4e+03  3e-04  1e-03  5e+02\n",
      " 5:  9.1888e+04  9.1613e+04  4e+02  3e-05  1e-04  5e+01\n",
      " 6:  9.1825e+04  9.1819e+04  8e+00  6e-07  3e-06  1e+00\n",
      " 7:  9.1825e+04  9.1825e+04  1e-01  9e-09  4e-08  2e-02\n",
      " 8:  9.1825e+04  9.1825e+04  3e-03  2e-10  9e-10  4e-04\n",
      "Optimal solution found.\n",
      "     pcost       dcost       gap    pres   dres   k/t\n",
      " 0: -2.5036e+04 -1.0400e+06  1e+06  9e-02  3e-01  1e+00\n",
      " 1:  1.5698e+05 -3.4365e+05  7e+05  5e-02  2e-01  6e+04\n",
      " 2:  1.3561e+05  6.2314e+04  1e+05  7e-03  3e-02  1e+04\n",
      " 3:  1.1266e+05  6.2152e+04  7e+04  5e-03  2e-02  8e+03\n",
      " 4:  1.2384e+05  1.2233e+05  2e+03  2e-04  6e-04  3e+02\n",
      " 5:  1.2383e+05  1.2368e+05  2e+02  1e-05  5e-05  3e+01\n",
      " 6:  1.2380e+05  1.2380e+05  4e+00  3e-07  1e-06  5e-01\n",
      " 7:  1.2380e+05  1.2380e+05  5e-02  3e-09  1e-08  6e-03\n",
      "Optimal solution found.\n",
      "     pcost       dcost       gap    pres   dres   k/t\n",
      " 0: -2.5036e+04 -1.0400e+06  2e+06  9e-02  3e-01  1e+00\n",
      " 1:  1.8697e+05 -3.3449e+05  8e+05  5e-02  1e-01  6e+04\n",
      " 2:  1.7506e+05  1.1029e+05  9e+04  6e-03  2e-02  9e+03\n",
      " 3:  1.5258e+05  1.1286e+05  6e+04  4e-03  1e-02  7e+03\n",
      " 4:  1.6393e+05  1.6314e+05  1e+03  8e-05  2e-04  2e+02\n",
      " 5:  1.6401e+05  1.6395e+05  1e+02  7e-06  2e-05  1e+01\n",
      " 6:  1.6401e+05  1.6401e+05  2e+00  1e-07  4e-07  3e-01\n",
      " 7:  1.6401e+05  1.6401e+05  3e-02  2e-09  5e-09  4e-03\n",
      "Optimal solution found.\n"
     ]
    }
   ],
   "source": [
    "# Compute trade-off.\n",
    "N = 20\n",
    "raps = [ 10**(2.0*t/N-1.0) for t in range(N) ]\n",
    "portfolios = [ meanVariance(lam) for lam in raps ]\n",
    "returns = [ dot(alphas,pi) for pi in portfolios ]\n",
    "risks = [ sqrt(dot(pi, Cov*pi)) for pi in portfolios ]"
   ]
  },
  {
   "cell_type": "code",
   "execution_count": 31,
   "metadata": {
    "collapsed": false
   },
   "outputs": [
    {
     "data": {
      "text/plain": [
       "[24000, 40000, 30000, 42000]"
      ]
     },
     "execution_count": 31,
     "metadata": {
     },
     "output_type": "execute_result"
    },
    {
     "data": {
      "image/png": "[encoded data removed]"
     },
     "execution_count": 31,
     "metadata": {
     },
     "output_type": "execute_result"
    }
   ],
   "source": [
    "# Plot trade-off curve and optimal allocations.\n",
    "pylab.figure(1, facecolor='w')\n",
    "pylab.plot(risks, returns)\n",
    "pylab.xlabel('standard deviation')\n",
    "pylab.ylabel('expected return')\n",
    "pylab.axis([24000, 40000, 30000, 42000])"
   ]
  },
  {
   "cell_type": "code",
   "execution_count": 0,
   "metadata": {
    "collapsed": true
   },
   "outputs": [
   ],
   "source": [
   ]
  }
 ],
 "metadata": {
  "kernelspec": {
   "display_name": "Python 2 (SageMath)",
   "language": "python",
   "name": "python2"
  },
  "language_info": {
   "codemirror_mode": {
    "name": "ipython",
    "version": 2
   },
   "file_extension": ".py",
   "mimetype": "text/x-python",
   "name": "python",
   "nbconvert_exporter": "python",
   "pygments_lexer": "ipython2",
   "version": "2.7.13"
  },
  "name": "L2_portfolioOptimization.ipynb"
 },
 "nbformat": 4,
 "nbformat_minor": 0
}